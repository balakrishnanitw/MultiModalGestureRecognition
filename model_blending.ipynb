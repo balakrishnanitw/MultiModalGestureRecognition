{
 "metadata": {
  "name": "model_blending"
 },
 "nbformat": 3,
 "nbformat_minor": 0,
 "worksheets": [
  {
   "cells": [
    {
     "cell_type": "code",
     "collapsed": false,
     "input": [
      "import pandas as pd\n",
      "from pandas import DataFrame\n",
      "from preprocessing import preprocessed_skeleton\n",
      "pd.set_option('display.line_width',400)"
     ],
     "language": "python",
     "metadata": {},
     "outputs": [],
     "prompt_number": 6
    },
    {
     "cell_type": "code",
     "collapsed": false,
     "input": [
      "from models import eval_gesture_model\n",
      "\n",
      "lengths = [20, 30, 40, 50, 60]\n",
      "\n",
      "results = {}\n",
      "\n",
      "for l in lengths:\n",
      "    results[l] = eval_gesture_model(window_shift=5,\n",
      "        window_length=l, retrain=False)"
     ],
     "language": "python",
     "metadata": {},
     "outputs": [],
     "prompt_number": 19
    },
    {
     "cell_type": "code",
     "collapsed": false,
     "input": [
      "from sklearn.metrics import accuracy_score\n",
      "\n",
      "for l in lengths:\n",
      "    y_pred_class = np.argmax(results[l][0], axis=1)\n",
      "    print (l, accuracy_score(results[l][1], y_pred_class))"
     ],
     "language": "python",
     "metadata": {},
     "outputs": [
      {
       "output_type": "stream",
       "stream": "stdout",
       "text": [
        "(20, 0.81887135922330101)\n",
        "(30, 0.83950242718446599)\n",
        "(40, 0.84041262135922334)\n",
        "(50, 0.83753033980582525)\n",
        "(60, 0.8313106796116505)\n"
       ]
      }
     ],
     "prompt_number": 9
    },
    {
     "cell_type": "code",
     "collapsed": false,
     "input": [
      "%pylab\n",
      "from sklearn.metrics import confusion_matrix\n",
      "import matplotlib.pylab as plt\n",
      "from pandas import DataFrame\n",
      "import pandas as pd\n",
      "\n",
      "fig, ax = plt.subplots(ncols=5, nrows=1, figsize=(30,100))\n",
      "df_results = DataFrame()\n",
      "\n",
      "for i, l in enumerate(lengths):\n",
      "    y_pred_proba = results[l][0]\n",
      "    y_pred_class = np.argmax(y_pred_proba, axis=1)\n",
      "    y_test = results[l][1]\n",
      "    cm = confusion_matrix(y_test, y_pred_class)\n",
      "    cm_rel = np.dot(cm , (np.diag(1.0 / cm.sum(axis=1))))\n",
      "\n",
      "\n",
      "    # Show confusion matrix\n",
      "    cax = ax[i].matshow(cm_rel)\n",
      "    ax[i].set_title('Confusion matrix ' + str(l))"
     ],
     "language": "python",
     "metadata": {},
     "outputs": [
      {
       "output_type": "stream",
       "stream": "stdout",
       "text": [
        "\n",
        "Welcome to pylab, a matplotlib-based Python environment [backend: module://IPython.zmq.pylab.backend_inline].\n",
        "For more information, type 'help(pylab)'.\n"
       ]
      },
      {
       "output_type": "display_data",
       "png": "[encoded data removed]"
      }
     ],
     "prompt_number": 31
    },
    {
     "cell_type": "heading",
     "level": 1,
     "metadata": {},
     "source": [
      "blend models"
     ]
    },
    {
     "cell_type": "code",
     "collapsed": false,
     "input": [
      "print np.arange(9).reshape((3,3))\n",
      "np.arange(9).reshape((3,3)) + np.arange(9).reshape((3,3))"
     ],
     "language": "python",
     "metadata": {},
     "outputs": [
      {
       "output_type": "stream",
       "stream": "stdout",
       "text": [
        "[[0 1 2]\n",
        " [3 4 5]\n",
        " [6 7 8]]\n"
       ]
      },
      {
       "output_type": "pyout",
       "prompt_number": 37,
       "text": [
        "array([[ 0,  2,  4],\n",
        "       [ 6,  8, 10],\n",
        "       [12, 14, 16]])"
       ]
      }
     ],
     "prompt_number": 37
    },
    {
     "cell_type": "code",
     "collapsed": false,
     "input": [
      "merge_prob = np.zeros_like(results[l][0])\n",
      "\n",
      "lengths = [20, 30, 40, 50, 40]\n",
      "\n",
      "for l in lengths:\n",
      "    merge_prob = merge_prob + results[l][0]\n",
      "y_blend_pred_class = np.argmax(merge_prob, axis=1)\n",
      "\n",
      "accuracy_score(results[l][1], y_blend_pred_class)"
     ],
     "language": "python",
     "metadata": {},
     "outputs": [
      {
       "output_type": "pyout",
       "prompt_number": 52,
       "text": [
        "0.84921116504854366"
       ]
      }
     ],
     "prompt_number": 52
    },
    {
     "cell_type": "code",
     "collapsed": false,
     "input": [
      "%pylab\n",
      "from sklearn.metrics import confusion_matrix\n",
      "import matplotlib.pylab as plt\n",
      "\n",
      "fig, ax = plt.subplots(figsize=(8,8))\n",
      "\n",
      "cm = confusion_matrix(results[l][1], y_blend_pred_class)\n",
      "cm_rel = np.dot(cm , (np.diag(1.0 / cm.sum(axis=1))))\n",
      "\n",
      "\n",
      "# Show confusion matrix\n",
      "cax = ax.matshow(cm_rel)\n",
      "ax.set_title('Confusion matrix')\n",
      "fig.colorbar(cax)\n",
      "fig.show()"
     ],
     "language": "python",
     "metadata": {},
     "outputs": [
      {
       "output_type": "stream",
       "stream": "stdout",
       "text": [
        "\n",
        "Welcome to pylab, a matplotlib-based Python environment [backend: module://IPython.zmq.pylab.backend_inline].\n",
        "For more information, type 'help(pylab)'.\n"
       ]
      },
      {
       "output_type": "stream",
       "stream": "stderr",
       "text": [
        "/home/ibayer/.virtualenvs/science/local/lib/python2.7/site-packages/matplotlib/figure.py:362: UserWarning: matplotlib is currently using a non-GUI backend, so cannot show the figure\n",
        "  \"matplotlib is currently using a non-GUI backend, \"\n"
       ]
      },
      {
       "output_type": "display_data",
       "png": "[encoded data removed]"
      }
     ],
     "prompt_number": 54
    },
    {
     "cell_type": "code",
     "collapsed": false,
     "input": [
      "def number_to_letter(l):\n",
      "    return ' '.join([chr(i + 65) for i in l])\n",
      "    return chr(i + 65)\n",
      "def letter_to_number(l):\n",
      "    return ord(l) - 65\n",
      "\n",
      "seq = [[5, 3, 10, 12, 15, 4, 20, 6, 8, 11, 9, 17],\n",
      "        [8, 3, 10, 12, 18, 15, 4, 20, 6, 11, 9, 17],\n",
      "        [5, 8, 3, 10, 12, 15, 4, 6, 11, 9, 17],\n",
      "        [5, 3, 10, 12, 18, 15, 20, 19, 6, 8, 11, 9, 1],\n",
      "        [18, 3, 4, 12, 20, 14, 8, 9, 17]\n",
      "]\n",
      "\n",
      "for s in seq:\n",
      "    print number_to_letter(s)"
     ],
     "language": "python",
     "metadata": {},
     "outputs": [
      {
       "output_type": "stream",
       "stream": "stdout",
       "text": [
        "F D K M P E U G I L J R\n",
        "I D K M S P E U G L J R\n",
        "F I D K M P E G L J R\n",
        "F D K M S P U T G I L J B\n",
        "S D E M U O I J R\n"
       ]
      }
     ],
     "prompt_number": 77
    },
    {
     "cell_type": "code",
     "collapsed": false,
     "input": [
      "ord('A')"
     ],
     "language": "python",
     "metadata": {},
     "outputs": [
      {
       "output_type": "pyout",
       "prompt_number": 68,
       "text": [
        "65"
       ]
      }
     ],
     "prompt_number": 68
    },
    {
     "cell_type": "code",
     "collapsed": false,
     "input": [
      "from models import leaderboard_model\n",
      "\n",
      "df_pred, to_dump = leaderboard_model(out_file='leaderboard40_5.csv',window_shift=5,\n",
      "                    window_length=40, retrain=False)"
     ],
     "language": "python",
     "metadata": {},
     "outputs": [],
     "prompt_number": 2
    },
    {
     "cell_type": "code",
     "collapsed": false,
     "input": [
      "df_pred.head()"
     ],
     "language": "python",
     "metadata": {},
     "outputs": [
      {
       "html": [
        "<pre>\n",
        "&ltclass 'pandas.core.frame.DataFrame'&gt\n",
        "Index: 5 entries, Sample00410 to Sample00410\n",
        "Data columns (total 21 columns):\n",
        "0     5  non-null values\n",
        "1     5  non-null values\n",
        "2     5  non-null values\n",
        "3     5  non-null values\n",
        "4     5  non-null values\n",
        "5     5  non-null values\n",
        "6     5  non-null values\n",
        "7     5  non-null values\n",
        "8     5  non-null values\n",
        "9     5  non-null values\n",
        "10    5  non-null values\n",
        "11    5  non-null values\n",
        "12    5  non-null values\n",
        "13    5  non-null values\n",
        "14    5  non-null values\n",
        "15    5  non-null values\n",
        "16    5  non-null values\n",
        "17    5  non-null values\n",
        "18    5  non-null values\n",
        "19    5  non-null values\n",
        "20    5  non-null values\n",
        "dtypes: float64(21)\n",
        "</pre>"
       ],
       "output_type": "pyout",
       "prompt_number": 7,
       "text": [
        "                0      1      2      3      4      5      6      7   8      9      10     11     12     13     14     15     16     17     18     19     20\n",
        "Sample00410  0.622  0.010  0.018  0.008  0.004  0.084  0.010  0.004   0  0.000  0.002  0.014  0.000  0.008  0.020  0.020  0.116  0.010  0.000  0.036  0.014\n",
        "Sample00410  0.708  0.010  0.012  0.010  0.010  0.078  0.012  0.006   0  0.000  0.002  0.010  0.000  0.002  0.024  0.022  0.060  0.008  0.002  0.018  0.006\n",
        "Sample00410  0.702  0.006  0.010  0.010  0.012  0.080  0.014  0.006   0  0.002  0.000  0.008  0.000  0.002  0.026  0.022  0.060  0.010  0.002  0.018  0.010\n",
        "Sample00410  0.698  0.006  0.010  0.010  0.012  0.084  0.016  0.008   0  0.002  0.000  0.008  0.002  0.002  0.022  0.022  0.054  0.012  0.002  0.020  0.010\n",
        "Sample00410  0.698  0.006  0.010  0.010  0.014  0.088  0.016  0.008   0  0.000  0.000  0.008  0.002  0.002  0.022  0.018  0.052  0.012  0.002  0.022  0.010"
       ]
      }
     ],
     "prompt_number": 7
    },
    {
     "cell_type": "code",
     "collapsed": false,
     "input": [
      "from models import movement_interval\n",
      "df_out = movement_interval(window_shift=5, retrain=False,\n",
      "        train_on=['training1','training2', 'training3', 'training4'])\n"
     ],
     "language": "python",
     "metadata": {},
     "outputs": [
      {
       "html": [
        "<pre>\n",
        "&ltclass 'pandas.core.frame.DataFrame'&gt\n",
        "MultiIndex: 3865 entries, (Sample00410, 2) to (Sample00710, 3)\n",
        "Data columns (total 3 columns):\n",
        "gesture    3865  non-null values\n",
        "frame      3865  non-null values\n",
        "p          3865  non-null values\n",
        "dtypes: float64(1), int64(2)\n",
        "</pre>"
       ],
       "output_type": "pyout",
       "prompt_number": 8,
       "text": [
        "<class 'pandas.core.frame.DataFrame'>\n",
        "MultiIndex: 3865 entries, (Sample00410, 2) to (Sample00710, 3)\n",
        "Data columns (total 3 columns):\n",
        "gesture    3865  non-null values\n",
        "frame      3865  non-null values\n",
        "p          3865  non-null values\n",
        "dtypes: float64(1), int64(2)"
       ]
      }
     ],
     "prompt_number": 8
    }
   ],
   "metadata": {}
  }
 ]
}