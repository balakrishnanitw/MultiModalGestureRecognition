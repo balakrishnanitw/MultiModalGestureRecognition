{
 "metadata": {
  "name": "model_evaluation"
 },
 "nbformat": 3,
 "nbformat_minor": 0,
 "worksheets": [
  {
   "cells": [
    {
     "cell_type": "heading",
     "level": 1,
     "metadata": {},
     "source": [
      "Gesture recognition evaluation"
     ]
    },
    {
     "cell_type": "markdown",
     "metadata": {},
     "source": [
      "\n",
      "    train: train-1, 3, 4, val-1, 3 predict: train2 + vali2 -> score 0.8347 (without max min), 0.84041 (with max min)\n",
      "    train: train-1, 3, 4 predict: train2 + vali2 -> score 0.82478\n"
     ]
    },
    {
     "cell_type": "code",
     "collapsed": false,
     "input": [
      "%load_ext autoreload\n",
      "%autoreload\n",
      "from models import eval_gesture_model\n",
      "\n",
      "y_pred_proba, y_test = eval_gesture_model()"
     ],
     "language": "python",
     "metadata": {},
     "outputs": [],
     "prompt_number": 3
    },
    {
     "cell_type": "code",
     "collapsed": false,
     "input": [
      "from sklearn.metrics import accuracy_score\n",
      "y_pred_class = np.argmax(y_pred_proba, axis=1)\n",
      "accuracy_score(y_test, y_pred_class)  "
     ],
     "language": "python",
     "metadata": {},
     "outputs": [
      {
       "output_type": "pyout",
       "prompt_number": 4,
       "text": [
        "0.84041262135922334"
       ]
      }
     ],
     "prompt_number": 4
    },
    {
     "cell_type": "code",
     "collapsed": false,
     "input": [
      "%pylab\n",
      "from sklearn.metrics import confusion_matrix\n",
      "import matplotlib.pylab as plt\n",
      "\n",
      "fig, ax = plt.subplots(figsize=(8,8))\n",
      "\n",
      "cm = confusion_matrix(y_test, y_pred_class)\n",
      "cm_rel = np.dot(cm , (np.diag(1.0 / cm.sum(axis=1))))\n",
      "\n",
      "\n",
      "# Show confusion matrix\n",
      "cax = ax.matshow(cm_rel)\n",
      "ax.set_title('Confusion matrix')\n",
      "fig.colorbar(cax)\n",
      "fig.show()"
     ],
     "language": "python",
     "metadata": {},
     "outputs": [
      {
       "output_type": "stream",
       "stream": "stdout",
       "text": [
        "\n",
        "Welcome to pylab, a matplotlib-based Python environment [backend: module://IPython.zmq.pylab.backend_inline].\n",
        "For more information, type 'help(pylab)'.\n"
       ]
      },
      {
       "output_type": "display_data",
       "png": "[encoded data removed]"
      }
     ],
     "prompt_number": 11
    },
    {
     "cell_type": "code",
     "collapsed": false,
     "input": [
      "from pandas import DataFrame\n",
      "error_prc = (cm.diagonal() / cm.sum(axis=1).astype(np.float32)) * 100.0\n",
      "print ('mean acc without break', error_prc[1:].mean())\n",
      "DataFrame([ (num, prc, freq) for num, prc, freq in zip(np.arange(y_pred_proba.shape[1]),error_prc, cm.sum(axis=1))],\n",
      "     columns=['class_id', 'err_prc', 'freq']).sort('err_prc')"
     ],
     "language": "python",
     "metadata": {},
     "outputs": [
      {
       "output_type": "stream",
       "stream": "stdout",
       "text": [
        "('mean acc without break', 68.489460874192332)\n"
       ]
      },
      {
       "html": [
        "<div style=\"max-height:1000px;max-width:1500px;overflow:auto;\">\n",
        "<table border=\"1\" class=\"dataframe\">\n",
        "  <thead>\n",
        "    <tr style=\"text-align: right;\">\n",
        "      <th></th>\n",
        "      <th>class_id</th>\n",
        "      <th>err_prc</th>\n",
        "      <th>freq</th>\n",
        "    </tr>\n",
        "  </thead>\n",
        "  <tbody>\n",
        "    <tr>\n",
        "      <th>11</th>\n",
        "      <td> 11</td>\n",
        "      <td> 35.064935</td>\n",
        "      <td>  154</td>\n",
        "    </tr>\n",
        "    <tr>\n",
        "      <th>15</th>\n",
        "      <td> 15</td>\n",
        "      <td> 41.818182</td>\n",
        "      <td>  165</td>\n",
        "    </tr>\n",
        "    <tr>\n",
        "      <th>2 </th>\n",
        "      <td>  2</td>\n",
        "      <td> 43.975904</td>\n",
        "      <td>  166</td>\n",
        "    </tr>\n",
        "    <tr>\n",
        "      <th>10</th>\n",
        "      <td> 10</td>\n",
        "      <td> 50.310559</td>\n",
        "      <td>  161</td>\n",
        "    </tr>\n",
        "    <tr>\n",
        "      <th>14</th>\n",
        "      <td> 14</td>\n",
        "      <td> 51.298701</td>\n",
        "      <td>  154</td>\n",
        "    </tr>\n",
        "    <tr>\n",
        "      <th>12</th>\n",
        "      <td> 12</td>\n",
        "      <td> 56.097561</td>\n",
        "      <td>  164</td>\n",
        "    </tr>\n",
        "    <tr>\n",
        "      <th>4 </th>\n",
        "      <td>  4</td>\n",
        "      <td> 59.756098</td>\n",
        "      <td>  164</td>\n",
        "    </tr>\n",
        "    <tr>\n",
        "      <th>5 </th>\n",
        "      <td>  5</td>\n",
        "      <td> 66.250000</td>\n",
        "      <td>  160</td>\n",
        "    </tr>\n",
        "    <tr>\n",
        "      <th>3 </th>\n",
        "      <td>  3</td>\n",
        "      <td> 69.879518</td>\n",
        "      <td>  166</td>\n",
        "    </tr>\n",
        "    <tr>\n",
        "      <th>8 </th>\n",
        "      <td>  8</td>\n",
        "      <td> 69.938650</td>\n",
        "      <td>  163</td>\n",
        "    </tr>\n",
        "    <tr>\n",
        "      <th>1 </th>\n",
        "      <td>  1</td>\n",
        "      <td> 70.886076</td>\n",
        "      <td>  158</td>\n",
        "    </tr>\n",
        "    <tr>\n",
        "      <th>18</th>\n",
        "      <td> 18</td>\n",
        "      <td> 74.522293</td>\n",
        "      <td>  157</td>\n",
        "    </tr>\n",
        "    <tr>\n",
        "      <th>19</th>\n",
        "      <td> 19</td>\n",
        "      <td> 75.460123</td>\n",
        "      <td>  163</td>\n",
        "    </tr>\n",
        "    <tr>\n",
        "      <th>9 </th>\n",
        "      <td>  9</td>\n",
        "      <td> 78.616352</td>\n",
        "      <td>  159</td>\n",
        "    </tr>\n",
        "    <tr>\n",
        "      <th>7 </th>\n",
        "      <td>  7</td>\n",
        "      <td> 80.239521</td>\n",
        "      <td>  167</td>\n",
        "    </tr>\n",
        "    <tr>\n",
        "      <th>20</th>\n",
        "      <td> 20</td>\n",
        "      <td> 82.926829</td>\n",
        "      <td>  164</td>\n",
        "    </tr>\n",
        "    <tr>\n",
        "      <th>6 </th>\n",
        "      <td>  6</td>\n",
        "      <td> 89.171975</td>\n",
        "      <td>  157</td>\n",
        "    </tr>\n",
        "    <tr>\n",
        "      <th>17</th>\n",
        "      <td> 17</td>\n",
        "      <td> 90.445860</td>\n",
        "      <td>  157</td>\n",
        "    </tr>\n",
        "    <tr>\n",
        "      <th>13</th>\n",
        "      <td> 13</td>\n",
        "      <td> 91.463415</td>\n",
        "      <td>  164</td>\n",
        "    </tr>\n",
        "    <tr>\n",
        "      <th>16</th>\n",
        "      <td> 16</td>\n",
        "      <td> 91.666667</td>\n",
        "      <td>  168</td>\n",
        "    </tr>\n",
        "    <tr>\n",
        "      <th>0 </th>\n",
        "      <td>  0</td>\n",
        "      <td> 98.928890</td>\n",
        "      <td> 3361</td>\n",
        "    </tr>\n",
        "  </tbody>\n",
        "</table>\n",
        "</div>"
       ],
       "output_type": "pyout",
       "prompt_number": 12,
       "text": [
        "    class_id    err_prc  freq\n",
        "11        11  35.064935   154\n",
        "15        15  41.818182   165\n",
        "2          2  43.975904   166\n",
        "10        10  50.310559   161\n",
        "14        14  51.298701   154\n",
        "12        12  56.097561   164\n",
        "4          4  59.756098   164\n",
        "5          5  66.250000   160\n",
        "3          3  69.879518   166\n",
        "8          8  69.938650   163\n",
        "1          1  70.886076   158\n",
        "18        18  74.522293   157\n",
        "19        19  75.460123   163\n",
        "9          9  78.616352   159\n",
        "7          7  80.239521   167\n",
        "20        20  82.926829   164\n",
        "6          6  89.171975   157\n",
        "17        17  90.445860   157\n",
        "13        13  91.463415   164\n",
        "16        16  91.666667   168\n",
        "0          0  98.928890  3361"
       ]
      }
     ],
     "prompt_number": 12
    },
    {
     "cell_type": "code",
     "collapsed": false,
     "input": [
      "%pylab\n",
      "from sklearn.metrics import confusion_matrix\n",
      "import matplotlib.pylab as plt\n",
      "\n",
      "fig, ax = plt.subplots(figsize=(8,8))\n",
      "\n",
      "cm_red = confusion_matrix(y_test, y_pred_class)[1:, 1:]\n",
      "\n",
      "# Show confusion matrix\n",
      "cax = ax.matshow(cm_red)\n",
      "ax.set_title('Confusion matrix')\n",
      "fig.colorbar(cax)\n",
      "fig.show()"
     ],
     "language": "python",
     "metadata": {},
     "outputs": [
      {
       "output_type": "stream",
       "stream": "stdout",
       "text": [
        "\n",
        "Welcome to pylab, a matplotlib-based Python environment [backend: module://IPython.zmq.pylab.backend_inline].\n",
        "For more information, type 'help(pylab)'.\n"
       ]
      },
      {
       "output_type": "display_data",
       "png": "[encoded data removed]"
      }
     ],
     "prompt_number": 10
    },
    {
     "cell_type": "heading",
     "level": 3,
     "metadata": {},
     "source": [
      "feature importance"
     ]
    },
    {
     "cell_type": "code",
     "collapsed": false,
     "input": [
      "importances = clf.feature_importances_\n",
      "std = np.std([tree.feature_importances_ for tree in clf.estimators_],\n",
      "             axis=0)\n",
      "indices = np.argsort(importances)[::-1]\n",
      "\n",
      "n_features = 20\n",
      "\n",
      "# Print the feature ranking\n",
      "print \"Feature ranking:\"\n",
      "\n",
      "for f in xrange(n_features):\n",
      "    print \"%d. feature %d (%f)\" % (f + 1, indices[f], importances[indices[f]])\n",
      "\n",
      "# Plot the feature importances of the forest\n",
      "import pylab as pl\n",
      "pl.figure()\n",
      "pl.title(\"Feature importances\")\n",
      "pl.bar(xrange(len(importances[indices])), importances[indices],\n",
      "       color=\"r\", yerr=std[indices], align=\"center\")\n",
      "pl.xticks(xrange(n_features), indices)\n",
      "pl.xlim([-1, n_features])\n",
      "pl.show()"
     ],
     "language": "python",
     "metadata": {},
     "outputs": [
      {
       "output_type": "pyout",
       "prompt_number": 20,
       "text": [
        "68.489460874192332"
       ]
      }
     ],
     "prompt_number": 20
    }
   ],
   "metadata": {}
  }
 ]
}