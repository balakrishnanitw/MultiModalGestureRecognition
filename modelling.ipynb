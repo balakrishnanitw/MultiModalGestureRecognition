{
 "metadata": {
  "name": "modelling"
 },
 "nbformat": 3,
 "nbformat_minor": 0,
 "worksheets": [
  {
   "cells": [
    {
     "cell_type": "heading",
     "level": 1,
     "metadata": {},
     "source": [
      "Using only mean aggregation"
     ]
    },
    {
     "cell_type": "code",
     "collapsed": false,
     "input": [
      "from preprocessing import aggregated_skeletion\n",
      "X, y = aggregated_skeletion()\n",
      "\n",
      "print X.shape\n",
      "\n",
      "from sklearn import preprocessing\n",
      "le = preprocessing.LabelEncoder()\n",
      "y = le.fit_transform(y)"
     ],
     "language": "python",
     "metadata": {},
     "outputs": [
      {
       "output_type": "stream",
       "stream": "stdout",
       "text": [
        "(15347, 130)\n"
       ]
      }
     ],
     "prompt_number": 9
    },
    {
     "cell_type": "code",
     "collapsed": false,
     "input": [
      "from sklearn.cross_validation import cross_val_score\n",
      "from sklearn.ensemble import ExtraTreesClassifier\n",
      "\n",
      "clf = ExtraTreesClassifier(n_estimators=1000, max_depth=None,\n",
      "    min_samples_split=1, random_state=0, n_jobs=-1)\n",
      "scores = cross_val_score(clf, X, y)\n",
      "print scores.mean()\n",
      "scores"
     ],
     "language": "python",
     "metadata": {},
     "outputs": [
      {
       "output_type": "stream",
       "stream": "stdout",
       "text": [
        "0.755120580288\n"
       ]
      },
      {
       "output_type": "pyout",
       "prompt_number": 17,
       "text": [
        "array([ 0.76908752,  0.75037258,  0.74590164])"
       ]
      }
     ],
     "prompt_number": 17
    },
    {
     "cell_type": "code",
     "collapsed": false,
     "input": [
      "from sklearn.cross_validation import train_test_split\n",
      "\n",
      "X_train, X_test, y_train, y_test = train_test_split(\n",
      "    X, y, test_size=0.33, random_state=42)"
     ],
     "language": "python",
     "metadata": {},
     "outputs": [],
     "prompt_number": 3
    },
    {
     "cell_type": "code",
     "collapsed": false,
     "input": [
      "from sklearn.cross_validation import cross_val_score\n",
      "from sklearn.ensemble import ExtraTreesClassifier\n",
      "\n",
      "clf = ExtraTreesClassifier(n_estimators=500, random_state=0,\n",
      "     n_jobs=-1, compute_importances=True,)\n",
      "clf.fit(X_train, y_train)\n",
      "y_pred = clf.predict(X_test)"
     ],
     "language": "python",
     "metadata": {},
     "outputs": [],
     "prompt_number": 4
    },
    {
     "cell_type": "code",
     "collapsed": false,
     "input": [
      "from sklearn.metrics import accuracy_score\n",
      "accuracy_score(y_test, y_pred)  "
     ],
     "language": "python",
     "metadata": {},
     "outputs": [
      {
       "output_type": "pyout",
       "prompt_number": 5,
       "text": [
        "0.78104639684106614"
       ]
      }
     ],
     "prompt_number": 5
    },
    {
     "cell_type": "code",
     "collapsed": false,
     "input": [
      "import matplotlib.pylab as plt\n",
      "\n",
      "fig, ax = plt.subplots(figsize=(8,8))\n",
      "from sklearn.metrics import confusion_matrix\n",
      "cm = confusion_matrix(y_test, y_pred)\n",
      "cm_rel = np.dot(cm , (np.diag(1.0 / cm.sum(axis=0))))\n",
      "\n",
      "\n",
      "# Show confusion matrix\n",
      "cax = ax.matshow(cm_rel)\n",
      "ax.set_title('Confusion matrix')\n",
      "fig.colorbar(cax)\n",
      "fig.show()"
     ],
     "language": "python",
     "metadata": {},
     "outputs": [
      {
       "output_type": "display_data",
       "png": "[encoded data removed]"
      }
     ],
     "prompt_number": 27
    },
    {
     "cell_type": "code",
     "collapsed": false,
     "input": [
      "from pandas import DataFrame\n",
      "error_prc = (cm.diagonal() / cm.sum(axis=0).astype(np.float32)) * 100.0\n",
      "DataFrame([ (num, lab, prc, freq) for num, lab, prc, freq in zip(np.arange(len(le.classes_)),le.classes_, error_prc, cm.sum(axis=0))],\n",
      "     columns=['class_id', 'gesture', 'err_prc', 'freq'])"
     ],
     "language": "python",
     "metadata": {},
     "outputs": [
      {
       "html": [
        "<div style=\"max-height:1000px;max-width:1500px;overflow:auto;\">\n",
        "<table border=\"1\" class=\"dataframe\">\n",
        "  <thead>\n",
        "    <tr style=\"text-align: right;\">\n",
        "      <th></th>\n",
        "      <th>class_id</th>\n",
        "      <th>gesture</th>\n",
        "      <th>err_prc</th>\n",
        "      <th>freq</th>\n",
        "    </tr>\n",
        "  </thead>\n",
        "  <tbody>\n",
        "    <tr>\n",
        "      <th>0 </th>\n",
        "      <td>  0</td>\n",
        "      <td> basta</td>\n",
        "      <td> 83.739837</td>\n",
        "      <td>  123</td>\n",
        "    </tr>\n",
        "    <tr>\n",
        "      <th>1 </th>\n",
        "      <td>  1</td>\n",
        "      <td> break</td>\n",
        "      <td> 78.809917</td>\n",
        "      <td> 3025</td>\n",
        "    </tr>\n",
        "    <tr>\n",
        "      <th>2 </th>\n",
        "      <td>  2</td>\n",
        "      <td> buoni</td>\n",
        "      <td> 70.731707</td>\n",
        "      <td>  123</td>\n",
        "    </tr>\n",
        "    <tr>\n",
        "      <th>3 </th>\n",
        "      <td>  3</td>\n",
        "      <td> chedu</td>\n",
        "      <td> 89.552239</td>\n",
        "      <td>   67</td>\n",
        "    </tr>\n",
        "    <tr>\n",
        "      <th>4 </th>\n",
        "      <td>  4</td>\n",
        "      <td> chevu</td>\n",
        "      <td> 78.151261</td>\n",
        "      <td>  119</td>\n",
        "    </tr>\n",
        "    <tr>\n",
        "      <th>5 </th>\n",
        "      <td>  5</td>\n",
        "      <td> combi</td>\n",
        "      <td> 87.786260</td>\n",
        "      <td>  131</td>\n",
        "    </tr>\n",
        "    <tr>\n",
        "      <th>6 </th>\n",
        "      <td>  6</td>\n",
        "      <td> cosat</td>\n",
        "      <td> 78.846154</td>\n",
        "      <td>  104</td>\n",
        "    </tr>\n",
        "    <tr>\n",
        "      <th>7 </th>\n",
        "      <td>  7</td>\n",
        "      <td> dacco</td>\n",
        "      <td> 81.666667</td>\n",
        "      <td>  120</td>\n",
        "    </tr>\n",
        "    <tr>\n",
        "      <th>8 </th>\n",
        "      <td>  8</td>\n",
        "      <td>  fame</td>\n",
        "      <td> 88.421053</td>\n",
        "      <td>   95</td>\n",
        "    </tr>\n",
        "    <tr>\n",
        "      <th>9 </th>\n",
        "      <td>  9</td>\n",
        "      <td> frega</td>\n",
        "      <td> 77.419355</td>\n",
        "      <td>   93</td>\n",
        "    </tr>\n",
        "    <tr>\n",
        "      <th>10</th>\n",
        "      <td> 10</td>\n",
        "      <td> furbo</td>\n",
        "      <td> 70.731707</td>\n",
        "      <td>  123</td>\n",
        "    </tr>\n",
        "    <tr>\n",
        "      <th>11</th>\n",
        "      <td> 11</td>\n",
        "      <td> messi</td>\n",
        "      <td> 75.000000</td>\n",
        "      <td>   84</td>\n",
        "    </tr>\n",
        "    <tr>\n",
        "      <th>12</th>\n",
        "      <td> 12</td>\n",
        "      <td> nonce</td>\n",
        "      <td> 58.333333</td>\n",
        "      <td>   60</td>\n",
        "    </tr>\n",
        "    <tr>\n",
        "      <th>13</th>\n",
        "      <td> 13</td>\n",
        "      <td>    ok</td>\n",
        "      <td> 60.000000</td>\n",
        "      <td>   70</td>\n",
        "    </tr>\n",
        "    <tr>\n",
        "      <th>14</th>\n",
        "      <td> 14</td>\n",
        "      <td> perfe</td>\n",
        "      <td> 73.195876</td>\n",
        "      <td>   97</td>\n",
        "    </tr>\n",
        "    <tr>\n",
        "      <th>15</th>\n",
        "      <td> 15</td>\n",
        "      <td> prend</td>\n",
        "      <td> 65.333333</td>\n",
        "      <td>   75</td>\n",
        "    </tr>\n",
        "    <tr>\n",
        "      <th>16</th>\n",
        "      <td> 16</td>\n",
        "      <td> seipa</td>\n",
        "      <td> 76.851852</td>\n",
        "      <td>  108</td>\n",
        "    </tr>\n",
        "    <tr>\n",
        "      <th>17</th>\n",
        "      <td> 17</td>\n",
        "      <td> sonos</td>\n",
        "      <td> 76.666667</td>\n",
        "      <td>  120</td>\n",
        "    </tr>\n",
        "    <tr>\n",
        "      <th>18</th>\n",
        "      <td> 18</td>\n",
        "      <td> tanto</td>\n",
        "      <td> 86.666667</td>\n",
        "      <td>  120</td>\n",
        "    </tr>\n",
        "    <tr>\n",
        "      <th>19</th>\n",
        "      <td> 19</td>\n",
        "      <td> vatte</td>\n",
        "      <td> 79.439252</td>\n",
        "      <td>  107</td>\n",
        "    </tr>\n",
        "    <tr>\n",
        "      <th>20</th>\n",
        "      <td> 20</td>\n",
        "      <td> vieni</td>\n",
        "      <td> 66.336634</td>\n",
        "      <td>  101</td>\n",
        "    </tr>\n",
        "  </tbody>\n",
        "</table>\n",
        "</div>"
       ],
       "output_type": "pyout",
       "prompt_number": 10,
       "text": [
        "    class_id gesture    err_prc  freq\n",
        "0          0   basta  83.739837   123\n",
        "1          1   break  78.809917  3025\n",
        "2          2   buoni  70.731707   123\n",
        "3          3   chedu  89.552239    67\n",
        "4          4   chevu  78.151261   119\n",
        "5          5   combi  87.786260   131\n",
        "6          6   cosat  78.846154   104\n",
        "7          7   dacco  81.666667   120\n",
        "8          8    fame  88.421053    95\n",
        "9          9   frega  77.419355    93\n",
        "10        10   furbo  70.731707   123\n",
        "11        11   messi  75.000000    84\n",
        "12        12   nonce  58.333333    60\n",
        "13        13      ok  60.000000    70\n",
        "14        14   perfe  73.195876    97\n",
        "15        15   prend  65.333333    75\n",
        "16        16   seipa  76.851852   108\n",
        "17        17   sonos  76.666667   120\n",
        "18        18   tanto  86.666667   120\n",
        "19        19   vatte  79.439252   107\n",
        "20        20   vieni  66.336634   101"
       ]
      }
     ],
     "prompt_number": 10
    },
    {
     "cell_type": "code",
     "collapsed": false,
     "input": [
      "importances = clf.feature_importances_\n",
      "std = np.std([tree.feature_importances_ for tree in clf.estimators_],\n",
      "             axis=0)\n",
      "indices = np.argsort(importances)[::-1]\n",
      "\n",
      "n_features = 20\n",
      "\n",
      "# Print the feature ranking\n",
      "print \"Feature ranking:\"\n",
      "\n",
      "for f in xrange(n_features):\n",
      "    print \"%d. feature %d (%f)\" % (f + 1, indices[f], importances[indices[f]])\n",
      "\n",
      "# Plot the feature importances of the forest\n",
      "import pylab as pl\n",
      "pl.figure()\n",
      "pl.title(\"Feature importances\")\n",
      "pl.bar(xrange(len(importances[indices])), importances[indices],\n",
      "       color=\"r\", yerr=std[indices], align=\"center\")\n",
      "pl.xticks(xrange(n_features), indices)\n",
      "pl.xlim([-1, n_features])\n",
      "pl.show()"
     ],
     "language": "python",
     "metadata": {},
     "outputs": [
      {
       "output_type": "stream",
       "stream": "stdout",
       "text": [
        "Feature ranking:\n",
        "1. feature 77 (0.028202)\n",
        "2. feature 68 (0.027956)\n",
        "3. feature 90 (0.027575)\n",
        "4. feature 64 (0.026931)\n",
        "5. feature 103 (0.020157)\n",
        "6. feature 67 (0.019549)\n",
        "7. feature 81 (0.019178)\n",
        "8. feature 80 (0.018322)\n",
        "9. feature 76 (0.017924)\n",
        "10. feature 89 (0.017426)\n",
        "11. feature 118 (0.017372)\n",
        "12. feature 63 (0.017053)\n",
        "13. feature 66 (0.015821)\n",
        "14. feature 79 (0.015814)\n",
        "15. feature 105 (0.015693)\n",
        "16. feature 116 (0.015068)\n",
        "17. feature 29 (0.014792)\n",
        "18. feature 14 (0.014168)\n",
        "19. feature 92 (0.013910)\n",
        "20. feature 102 (0.013375)\n"
       ]
      },
      {
       "output_type": "display_data",
       "png": "[encoded data removed]"
      }
     ],
     "prompt_number": 37
    },
    {
     "cell_type": "code",
     "collapsed": false,
     "input": [
      "X.columns[[77, 68, 90, 64]]"
     ],
     "language": "python",
     "metadata": {},
     "outputs": [
      {
       "output_type": "pyout",
       "prompt_number": 35,
       "text": [
        "MultiIndex\n",
        "[y_p    mean  WristRight,              HandRight , y_pix  mean  WristRight, x_r    mean  WristRight]"
       ]
      }
     ],
     "prompt_number": 35
    },
    {
     "cell_type": "code",
     "collapsed": false,
     "input": [
      "X.columns[[103, 67, 81, 80, 76, 81, 80, 76, 89]]"
     ],
     "language": "python",
     "metadata": {},
     "outputs": [
      {
       "output_type": "pyout",
       "prompt_number": 38,
       "text": [
        "MultiIndex\n",
        "[y_r    mean  WristRight, y_p    mean  HandLeft  , y_pix  mean  HandRight ,              HandLeft  , y_p    mean  WristLeft , y_pix  mean  HandRight ,              HandLeft  , y_p    mean  WristLeft , y_pix  mean  WristLeft ]"
       ]
      }
     ],
     "prompt_number": 38
    },
    {
     "cell_type": "heading",
     "level": 1,
     "metadata": {},
     "source": [
      "Add more aggregation functions"
     ]
    },
    {
     "cell_type": "code",
     "collapsed": false,
     "input": [
      "from preprocessing import aggregated_skeletion\n",
      "X, y = aggregated_skeletion(agg_functions=['min', 'max', 'median'])\n",
      "\n",
      "print X.shape\n",
      "\n",
      "from sklearn import preprocessing\n",
      "le = preprocessing.LabelEncoder()\n",
      "y = le.fit_transform(y)"
     ],
     "language": "python",
     "metadata": {},
     "outputs": [
      {
       "output_type": "stream",
       "stream": "stdout",
       "text": [
        "________________________________________________________________________________\n",
        "[Memory] Calling preprocessing.aggregated_skeletion-alias...\n",
        "aggregated_skeletion-alias(agg_functions=['min', 'max', 'median'])\n",
        "______________________________________aggregated_skeletion-alias - 21.5s, 0.4min"
       ]
      },
      {
       "output_type": "stream",
       "stream": "stdout",
       "text": [
        "\n",
        "(15347, 390)\n"
       ]
      }
     ],
     "prompt_number": 56
    },
    {
     "cell_type": "code",
     "collapsed": false,
     "input": [
      "X[('frame', 'var', 'WristRight')].head()"
     ],
     "language": "python",
     "metadata": {},
     "outputs": [
      {
       "output_type": "pyout",
       "prompt_number": 44,
       "text": [
        "(Sample00001, basta, 14)    130\n",
        "(Sample00001, break, 1)     NaN\n",
        "(Sample00001, break, 11)    NaN\n",
        "(Sample00001, break, 13)    NaN\n",
        "(Sample00001, break, 15)    NaN\n",
        "Name: (frame, var, WristRight), dtype: float64"
       ]
      }
     ],
     "prompt_number": 44
    },
    {
     "cell_type": "code",
     "collapsed": false,
     "input": [
      "from sklearn.cross_validation import train_test_split\n",
      "\n",
      "X_train, X_test, y_train, y_test = train_test_split(\n",
      "    X, y, test_size=0.33, random_state=42)"
     ],
     "language": "python",
     "metadata": {},
     "outputs": [],
     "prompt_number": 57
    },
    {
     "cell_type": "code",
     "collapsed": false,
     "input": [
      "from sklearn.cross_validation import cross_val_score\n",
      "from sklearn.ensemble import ExtraTreesClassifier\n",
      "\n",
      "clf = ExtraTreesClassifier(n_estimators=500, random_state=0,\n",
      "     n_jobs=-1, compute_importances=True,)\n",
      "clf.fit(X_train, y_train)\n",
      "y_pred = clf.predict(X_test)"
     ],
     "language": "python",
     "metadata": {},
     "outputs": [],
     "prompt_number": 58
    },
    {
     "cell_type": "code",
     "collapsed": false,
     "input": [
      "from sklearn.metrics import accuracy_score\n",
      "accuracy_score(y_test, y_pred) "
     ],
     "language": "python",
     "metadata": {},
     "outputs": [
      {
       "output_type": "pyout",
       "prompt_number": 59,
       "text": [
        "0.85014807502467915"
       ]
      }
     ],
     "prompt_number": 59
    },
    {
     "cell_type": "code",
     "collapsed": false,
     "input": [
      "import matplotlib.pylab as plt\n",
      "\n",
      "fig, ax = plt.subplots(figsize=(8,8))\n",
      "from sklearn.metrics import confusion_matrix\n",
      "cm = confusion_matrix(y_test, y_pred)\n",
      "cm_rel = np.dot(cm , (np.diag(1.0 / cm.sum(axis=0))))\n",
      "\n",
      "\n",
      "# Show confusion matrix\n",
      "cax = ax.matshow(cm_rel)\n",
      "ax.set_title('Confusion matrix')\n",
      "fig.colorbar(cax)\n",
      "fig.show()"
     ],
     "language": "python",
     "metadata": {},
     "outputs": [
      {
       "output_type": "display_data",
       "png": "[encoded data removed]"
      }
     ],
     "prompt_number": 60
    },
    {
     "cell_type": "code",
     "collapsed": false,
     "input": [
      "from pandas import DataFrame\n",
      "error_prc = (cm.diagonal() / cm.sum(axis=0).astype(np.float32)) * 100.0\n",
      "DataFrame([ (num, lab, prc, freq) for num, lab, prc, freq in zip(np.arange(len(le.classes_)),le.classes_, error_prc, cm.sum(axis=0))],\n",
      "     columns=['class_id', 'gesture', 'err_prc', 'freq'])"
     ],
     "language": "python",
     "metadata": {},
     "outputs": [
      {
       "html": [
        "<div style=\"max-height:1000px;max-width:1500px;overflow:auto;\">\n",
        "<table border=\"1\" class=\"dataframe\">\n",
        "  <thead>\n",
        "    <tr style=\"text-align: right;\">\n",
        "      <th></th>\n",
        "      <th>class_id</th>\n",
        "      <th>gesture</th>\n",
        "      <th>err_prc</th>\n",
        "      <th>freq</th>\n",
        "    </tr>\n",
        "  </thead>\n",
        "  <tbody>\n",
        "    <tr>\n",
        "      <th>0 </th>\n",
        "      <td>  0</td>\n",
        "      <td> basta</td>\n",
        "      <td> 93.600000</td>\n",
        "      <td>  125</td>\n",
        "    </tr>\n",
        "    <tr>\n",
        "      <th>1 </th>\n",
        "      <td>  1</td>\n",
        "      <td> break</td>\n",
        "      <td> 85.631201</td>\n",
        "      <td> 2923</td>\n",
        "    </tr>\n",
        "    <tr>\n",
        "      <th>2 </th>\n",
        "      <td>  2</td>\n",
        "      <td> buoni</td>\n",
        "      <td> 79.487179</td>\n",
        "      <td>  117</td>\n",
        "    </tr>\n",
        "    <tr>\n",
        "      <th>3 </th>\n",
        "      <td>  3</td>\n",
        "      <td> chedu</td>\n",
        "      <td> 91.111111</td>\n",
        "      <td>   90</td>\n",
        "    </tr>\n",
        "    <tr>\n",
        "      <th>4 </th>\n",
        "      <td>  4</td>\n",
        "      <td> chevu</td>\n",
        "      <td> 76.562500</td>\n",
        "      <td>  128</td>\n",
        "    </tr>\n",
        "    <tr>\n",
        "      <th>5 </th>\n",
        "      <td>  5</td>\n",
        "      <td> combi</td>\n",
        "      <td> 95.312500</td>\n",
        "      <td>  128</td>\n",
        "    </tr>\n",
        "    <tr>\n",
        "      <th>6 </th>\n",
        "      <td>  6</td>\n",
        "      <td> cosat</td>\n",
        "      <td> 83.177570</td>\n",
        "      <td>  107</td>\n",
        "    </tr>\n",
        "    <tr>\n",
        "      <th>7 </th>\n",
        "      <td>  7</td>\n",
        "      <td> dacco</td>\n",
        "      <td> 91.935484</td>\n",
        "      <td>  124</td>\n",
        "    </tr>\n",
        "    <tr>\n",
        "      <th>8 </th>\n",
        "      <td>  8</td>\n",
        "      <td>  fame</td>\n",
        "      <td> 95.744681</td>\n",
        "      <td>   94</td>\n",
        "    </tr>\n",
        "    <tr>\n",
        "      <th>9 </th>\n",
        "      <td>  9</td>\n",
        "      <td> frega</td>\n",
        "      <td> 78.571429</td>\n",
        "      <td>   98</td>\n",
        "    </tr>\n",
        "    <tr>\n",
        "      <th>10</th>\n",
        "      <td> 10</td>\n",
        "      <td> furbo</td>\n",
        "      <td> 74.015748</td>\n",
        "      <td>  127</td>\n",
        "    </tr>\n",
        "    <tr>\n",
        "      <th>11</th>\n",
        "      <td> 11</td>\n",
        "      <td> messi</td>\n",
        "      <td> 89.361702</td>\n",
        "      <td>   94</td>\n",
        "    </tr>\n",
        "    <tr>\n",
        "      <th>12</th>\n",
        "      <td> 12</td>\n",
        "      <td> nonce</td>\n",
        "      <td> 73.239437</td>\n",
        "      <td>   71</td>\n",
        "    </tr>\n",
        "    <tr>\n",
        "      <th>13</th>\n",
        "      <td> 13</td>\n",
        "      <td>    ok</td>\n",
        "      <td> 73.417722</td>\n",
        "      <td>   79</td>\n",
        "    </tr>\n",
        "    <tr>\n",
        "      <th>14</th>\n",
        "      <td> 14</td>\n",
        "      <td> perfe</td>\n",
        "      <td> 75.438596</td>\n",
        "      <td>  114</td>\n",
        "    </tr>\n",
        "    <tr>\n",
        "      <th>15</th>\n",
        "      <td> 15</td>\n",
        "      <td> prend</td>\n",
        "      <td> 80.722892</td>\n",
        "      <td>   83</td>\n",
        "    </tr>\n",
        "    <tr>\n",
        "      <th>16</th>\n",
        "      <td> 16</td>\n",
        "      <td> seipa</td>\n",
        "      <td> 82.644628</td>\n",
        "      <td>  121</td>\n",
        "    </tr>\n",
        "    <tr>\n",
        "      <th>17</th>\n",
        "      <td> 17</td>\n",
        "      <td> sonos</td>\n",
        "      <td> 88.596491</td>\n",
        "      <td>  114</td>\n",
        "    </tr>\n",
        "    <tr>\n",
        "      <th>18</th>\n",
        "      <td> 18</td>\n",
        "      <td> tanto</td>\n",
        "      <td> 92.500000</td>\n",
        "      <td>  120</td>\n",
        "    </tr>\n",
        "    <tr>\n",
        "      <th>19</th>\n",
        "      <td> 19</td>\n",
        "      <td> vatte</td>\n",
        "      <td> 82.142857</td>\n",
        "      <td>  112</td>\n",
        "    </tr>\n",
        "    <tr>\n",
        "      <th>20</th>\n",
        "      <td> 20</td>\n",
        "      <td> vieni</td>\n",
        "      <td> 79.166667</td>\n",
        "      <td>   96</td>\n",
        "    </tr>\n",
        "  </tbody>\n",
        "</table>\n",
        "</div>"
       ],
       "output_type": "pyout",
       "prompt_number": 61,
       "text": [
        "    class_id gesture    err_prc  freq\n",
        "0          0   basta  93.600000   125\n",
        "1          1   break  85.631201  2923\n",
        "2          2   buoni  79.487179   117\n",
        "3          3   chedu  91.111111    90\n",
        "4          4   chevu  76.562500   128\n",
        "5          5   combi  95.312500   128\n",
        "6          6   cosat  83.177570   107\n",
        "7          7   dacco  91.935484   124\n",
        "8          8    fame  95.744681    94\n",
        "9          9   frega  78.571429    98\n",
        "10        10   furbo  74.015748   127\n",
        "11        11   messi  89.361702    94\n",
        "12        12   nonce  73.239437    71\n",
        "13        13      ok  73.417722    79\n",
        "14        14   perfe  75.438596   114\n",
        "15        15   prend  80.722892    83\n",
        "16        16   seipa  82.644628   121\n",
        "17        17   sonos  88.596491   114\n",
        "18        18   tanto  92.500000   120\n",
        "19        19   vatte  82.142857   112\n",
        "20        20   vieni  79.166667    96"
       ]
      }
     ],
     "prompt_number": 61
    },
    {
     "cell_type": "heading",
     "level": 1,
     "metadata": {},
     "source": [
      "add var / std / quantile"
     ]
    },
    {
     "cell_type": "code",
     "collapsed": false,
     "input": [
      "from preprocessing import aggregated_skeletion\n",
      "import pandas as pd\n",
      "from functools import partial\n",
      "\n",
      "#q_low = partial(quantile, q=0.2)\n",
      "#q_high = partial(quantile, q=0.8)\n",
      "q_05 = lambda x: pd.Series.quantile(x, q=.05)\n",
      "q_95 = lambda x: pd.Series.quantile(x, q=.95)\n",
      "def q_05(x):\n",
      "    return pd.Series.quantile(x, q=.05)\n",
      "def q_95(x):\n",
      "    return pd.Series.quantile(x, q=.95)\n",
      "\n",
      "\n",
      "#X, y = aggregated_skeletion(agg_functions=['median', q_05, q_95]) \n",
      "# 0.84916090819348466\n",
      "#X, y = aggregated_skeletion(agg_functions=['median', 'var', 'min', 'max'])\n",
      "# 0.\n",
      "X, y = aggregated_skeletion(agg_functions=['median', 'var'])\n",
      "\n",
      "X = X.fillna(0)\n",
      "\n",
      "print X.shape\n",
      "\n",
      "from sklearn import preprocessing\n",
      "le = preprocessing.LabelEncoder()\n",
      "y = le.fit_transform(y)"
     ],
     "language": "python",
     "metadata": {},
     "outputs": [
      {
       "output_type": "stream",
       "stream": "stdout",
       "text": [
        "________________________________________________________________________________\n",
        "[Memory] Calling preprocessing.aggregated_skeletion-alias...\n",
        "aggregated_skeletion-alias(agg_functions=['median', 'var'])\n",
        "______________________________________aggregated_skeletion-alias - 26.7s, 0.4min"
       ]
      },
      {
       "output_type": "stream",
       "stream": "stdout",
       "text": [
        "\n",
        "(15347, 260)"
       ]
      },
      {
       "output_type": "stream",
       "stream": "stdout",
       "text": [
        "\n"
       ]
      }
     ],
     "prompt_number": 6
    },
    {
     "cell_type": "code",
     "collapsed": false,
     "input": [
      "from sklearn.cross_validation import train_test_split\n",
      "\n",
      "X_train, X_test, y_train, y_test = train_test_split(\n",
      "    X, y, test_size=0.33, random_state=42)"
     ],
     "language": "python",
     "metadata": {},
     "outputs": [],
     "prompt_number": 7
    },
    {
     "cell_type": "code",
     "collapsed": false,
     "input": [
      "from sklearn.cross_validation import cross_val_score\n",
      "from sklearn.ensemble import ExtraTreesClassifier\n",
      "\n",
      "clf = ExtraTreesClassifier(n_estimators=500, random_state=0,\n",
      "     n_jobs=-1, compute_importances=True,)\n",
      "clf.fit(X_train, y_train)\n",
      "y_pred = clf.predict(X_test)"
     ],
     "language": "python",
     "metadata": {},
     "outputs": [],
     "prompt_number": 8
    },
    {
     "cell_type": "code",
     "collapsed": false,
     "input": [
      "from sklearn.metrics import accuracy_score\n",
      "accuracy_score(y_test, y_pred)"
     ],
     "language": "python",
     "metadata": {},
     "outputs": [
      {
       "output_type": "pyout",
       "prompt_number": 10,
       "text": [
        "0.88134254689042446"
       ]
      }
     ],
     "prompt_number": 10
    },
    {
     "cell_type": "code",
     "collapsed": false,
     "input": [
      "import matplotlib.pylab as plt\n",
      "\n",
      "fig, ax = plt.subplots(figsize=(8,8))\n",
      "from sklearn.metrics import confusion_matrix\n",
      "cm = confusion_matrix(y_test, y_pred)\n",
      "cm_rel = np.dot(cm , (np.diag(1.0 / cm.sum(axis=0))))\n",
      "\n",
      "\n",
      "# Show confusion matrix\n",
      "cax = ax.matshow(cm_rel)\n",
      "ax.set_title('Confusion matrix')\n",
      "fig.colorbar(cax)\n",
      "fig.show()"
     ],
     "language": "python",
     "metadata": {},
     "outputs": [
      {
       "output_type": "stream",
       "stream": "stderr",
       "text": [
        "/home/ibayer/.virtualenvs/science/local/lib/python2.7/site-packages/matplotlib/figure.py:362: UserWarning: matplotlib is currently using a non-GUI backend, so cannot show the figure\n",
        "  \"matplotlib is currently using a non-GUI backend, \"\n"
       ]
      },
      {
       "output_type": "display_data",
       "png": "[encoded data removed]"
      }
     ],
     "prompt_number": 11
    },
    {
     "cell_type": "code",
     "collapsed": false,
     "input": [
      "from pandas import DataFrame\n",
      "error_prc = (cm.diagonal() / cm.sum(axis=0).astype(np.float32)) * 100.0\n",
      "DataFrame([ (num, lab, prc, freq) for num, lab, prc, freq in zip(np.arange(len(le.classes_)),le.classes_, error_prc, cm.sum(axis=0))],\n",
      "     columns=['class_id', 'gesture', 'err_prc', 'freq'])"
     ],
     "language": "python",
     "metadata": {},
     "outputs": [
      {
       "html": [
        "<div style=\"max-height:1000px;max-width:1500px;overflow:auto;\">\n",
        "<table border=\"1\" class=\"dataframe\">\n",
        "  <thead>\n",
        "    <tr style=\"text-align: right;\">\n",
        "      <th></th>\n",
        "      <th>class_id</th>\n",
        "      <th>gesture</th>\n",
        "      <th>err_prc</th>\n",
        "      <th>freq</th>\n",
        "    </tr>\n",
        "  </thead>\n",
        "  <tbody>\n",
        "    <tr>\n",
        "      <th>0 </th>\n",
        "      <td>  0</td>\n",
        "      <td> basta</td>\n",
        "      <td> 87.969925</td>\n",
        "      <td>  133</td>\n",
        "    </tr>\n",
        "    <tr>\n",
        "      <th>1 </th>\n",
        "      <td>  1</td>\n",
        "      <td> break</td>\n",
        "      <td> 94.774436</td>\n",
        "      <td> 2660</td>\n",
        "    </tr>\n",
        "    <tr>\n",
        "      <th>2 </th>\n",
        "      <td>  2</td>\n",
        "      <td> buoni</td>\n",
        "      <td> 79.389313</td>\n",
        "      <td>  131</td>\n",
        "    </tr>\n",
        "    <tr>\n",
        "      <th>3 </th>\n",
        "      <td>  3</td>\n",
        "      <td> chedu</td>\n",
        "      <td> 93.913043</td>\n",
        "      <td>  115</td>\n",
        "    </tr>\n",
        "    <tr>\n",
        "      <th>4 </th>\n",
        "      <td>  4</td>\n",
        "      <td> chevu</td>\n",
        "      <td> 82.677165</td>\n",
        "      <td>  127</td>\n",
        "    </tr>\n",
        "    <tr>\n",
        "      <th>5 </th>\n",
        "      <td>  5</td>\n",
        "      <td> combi</td>\n",
        "      <td> 92.028986</td>\n",
        "      <td>  138</td>\n",
        "    </tr>\n",
        "    <tr>\n",
        "      <th>6 </th>\n",
        "      <td>  6</td>\n",
        "      <td> cosat</td>\n",
        "      <td> 83.193277</td>\n",
        "      <td>  119</td>\n",
        "    </tr>\n",
        "    <tr>\n",
        "      <th>7 </th>\n",
        "      <td>  7</td>\n",
        "      <td> dacco</td>\n",
        "      <td> 88.652482</td>\n",
        "      <td>  141</td>\n",
        "    </tr>\n",
        "    <tr>\n",
        "      <th>8 </th>\n",
        "      <td>  8</td>\n",
        "      <td>  fame</td>\n",
        "      <td> 95.454545</td>\n",
        "      <td>  110</td>\n",
        "    </tr>\n",
        "    <tr>\n",
        "      <th>9 </th>\n",
        "      <td>  9</td>\n",
        "      <td> frega</td>\n",
        "      <td> 79.611650</td>\n",
        "      <td>  103</td>\n",
        "    </tr>\n",
        "    <tr>\n",
        "      <th>10</th>\n",
        "      <td> 10</td>\n",
        "      <td> furbo</td>\n",
        "      <td> 72.592593</td>\n",
        "      <td>  135</td>\n",
        "    </tr>\n",
        "    <tr>\n",
        "      <th>11</th>\n",
        "      <td> 11</td>\n",
        "      <td> messi</td>\n",
        "      <td> 76.724138</td>\n",
        "      <td>  116</td>\n",
        "    </tr>\n",
        "    <tr>\n",
        "      <th>12</th>\n",
        "      <td> 12</td>\n",
        "      <td> nonce</td>\n",
        "      <td> 63.302752</td>\n",
        "      <td>  109</td>\n",
        "    </tr>\n",
        "    <tr>\n",
        "      <th>13</th>\n",
        "      <td> 13</td>\n",
        "      <td>    ok</td>\n",
        "      <td> 71.276596</td>\n",
        "      <td>   94</td>\n",
        "    </tr>\n",
        "    <tr>\n",
        "      <th>14</th>\n",
        "      <td> 14</td>\n",
        "      <td> perfe</td>\n",
        "      <td> 73.170732</td>\n",
        "      <td>  123</td>\n",
        "    </tr>\n",
        "    <tr>\n",
        "      <th>15</th>\n",
        "      <td> 15</td>\n",
        "      <td> prend</td>\n",
        "      <td> 76.923077</td>\n",
        "      <td>  104</td>\n",
        "    </tr>\n",
        "    <tr>\n",
        "      <th>16</th>\n",
        "      <td> 16</td>\n",
        "      <td> seipa</td>\n",
        "      <td> 80.000000</td>\n",
        "      <td>  120</td>\n",
        "    </tr>\n",
        "    <tr>\n",
        "      <th>17</th>\n",
        "      <td> 17</td>\n",
        "      <td> sonos</td>\n",
        "      <td> 85.156250</td>\n",
        "      <td>  128</td>\n",
        "    </tr>\n",
        "    <tr>\n",
        "      <th>18</th>\n",
        "      <td> 18</td>\n",
        "      <td> tanto</td>\n",
        "      <td> 88.800000</td>\n",
        "      <td>  125</td>\n",
        "    </tr>\n",
        "    <tr>\n",
        "      <th>19</th>\n",
        "      <td> 19</td>\n",
        "      <td> vatte</td>\n",
        "      <td> 83.471074</td>\n",
        "      <td>  121</td>\n",
        "    </tr>\n",
        "    <tr>\n",
        "      <th>20</th>\n",
        "      <td> 20</td>\n",
        "      <td> vieni</td>\n",
        "      <td> 77.876106</td>\n",
        "      <td>  113</td>\n",
        "    </tr>\n",
        "  </tbody>\n",
        "</table>\n",
        "</div>"
       ],
       "output_type": "pyout",
       "prompt_number": 10,
       "text": [
        "    class_id gesture    err_prc  freq\n",
        "0          0   basta  87.969925   133\n",
        "1          1   break  94.774436  2660\n",
        "2          2   buoni  79.389313   131\n",
        "3          3   chedu  93.913043   115\n",
        "4          4   chevu  82.677165   127\n",
        "5          5   combi  92.028986   138\n",
        "6          6   cosat  83.193277   119\n",
        "7          7   dacco  88.652482   141\n",
        "8          8    fame  95.454545   110\n",
        "9          9   frega  79.611650   103\n",
        "10        10   furbo  72.592593   135\n",
        "11        11   messi  76.724138   116\n",
        "12        12   nonce  63.302752   109\n",
        "13        13      ok  71.276596    94\n",
        "14        14   perfe  73.170732   123\n",
        "15        15   prend  76.923077   104\n",
        "16        16   seipa  80.000000   120\n",
        "17        17   sonos  85.156250   128\n",
        "18        18   tanto  88.800000   125\n",
        "19        19   vatte  83.471074   121\n",
        "20        20   vieni  77.876106   113"
       ]
      }
     ],
     "prompt_number": 10
    }
   ],
   "metadata": {}
  }
 ]
}