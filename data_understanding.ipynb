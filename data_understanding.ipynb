{
 "metadata": {
  "name": "data_understanding"
 },
 "nbformat": 3,
 "nbformat_minor": 0,
 "worksheets": [
  {
   "cells": [
    {
     "cell_type": "code",
     "collapsed": false,
     "input": [
      "! ls data/raw_data"
     ],
     "language": "python",
     "metadata": {},
     "outputs": [
      {
       "output_type": "stream",
       "stream": "stdout",
       "text": [
        "test.csv  training1.tar.gz  training2.tar.gz  training.csv\r\n"
       ]
      }
     ],
     "prompt_number": 1
    },
    {
     "cell_type": "code",
     "collapsed": false,
     "input": [
      "import tarfile"
     ],
     "language": "python",
     "metadata": {},
     "outputs": [],
     "prompt_number": 1
    },
    {
     "cell_type": "code",
     "collapsed": false,
     "input": [
      "tarfile.is_tarfile('data/raw_data/training2.tar.gz')\n",
      "file_path = 'data/raw_data/training2.tar.gz'"
     ],
     "language": "python",
     "metadata": {},
     "outputs": [],
     "prompt_number": 2
    },
    {
     "cell_type": "code",
     "collapsed": false,
     "input": [
      "import scipy.io\n",
      "import zipfile\n",
      "import numpy as np\n",
      "\n",
      "def readZip(zfilename,dim,frames):\n",
      "    data=np.zeros((dim[0],dim[1],dim[2],frames),dtype=np.float32)\n",
      "    zfile = zipfile.ZipFile( zfilename, \"r\" )\n",
      "    i=0\n",
      "    for info in zfile.infolist():\n",
      "        fname = info.filename\n",
      "        zfile.extract(fname)\n",
      "        mat=scipy.io.loadmat(fname)"
     ],
     "language": "python",
     "metadata": {},
     "outputs": []
    },
    {
     "cell_type": "code",
     "collapsed": false,
     "input": [
      "import pandas as pd\n",
      "from pandas import DataFrame\n",
      "import tarfile\n",
      "import zipfile\n",
      "import scipy.io\n",
      "#import os\n",
      "\n",
      "def skeletion_from_archive(file_path, is_test=False, verbose=False):\n",
      " \n",
      "    df = DataFrame()\n",
      "    tar_file = tarfile.open(file_path, 'r:gz')\n",
      "    for tar_info in tar_file:\n",
      "        \n",
      "        if verbose:\n",
      "            print tar_info\n",
      "        \n",
      "        file_ = tar_file.extractfile(tar_info)\n",
      "        \n",
      "        if zipfile.is_zipfile(file_):\n",
      "            zfile = zipfile.ZipFile(file_, 'r')\n",
      "            \n",
      "            for info in zfile.infolist():\n",
      "    \n",
      "                if '.mat' in info.filename:\n",
      "                    fname = info.filename\n",
      "                    if verbose:\n",
      "                        print fname\n",
      "    \n",
      "                    zfile.extract(fname)\n",
      "                    mat=scipy.io.loadmat(fname)\n",
      "                    #os.remove('/data/raw_data/' + fname)\n",
      "                    tmp = skeletion_from_mat(mat)\n",
      "                \n",
      "                    tmp['sample_id'] = fname.split('_')[0]\n",
      "                    df = pd.concat([df, tmp], axis=0)\n",
      "        if is_test:\n",
      "            break\n",
      "        # magic trick to save memory\n",
      "        tar_file.members = []\n",
      "    return df"
     ],
     "language": "python",
     "metadata": {},
     "outputs": [],
     "prompt_number": 14
    },
    {
     "cell_type": "code",
     "collapsed": false,
     "input": [
      "file_path = 'data/raw_data/training2.tar.gz'\n",
      "skeletion_from_archive(file_path, verbose=True).head()"
     ],
     "language": "python",
     "metadata": {},
     "outputs": [
      {
       "output_type": "stream",
       "stream": "stdout",
       "text": [
        "<TarInfo './Sample00101.zip' at 0xc951a0c>\n",
        "Sample00101_data.mat"
       ]
      },
      {
       "output_type": "stream",
       "stream": "stdout",
       "text": [
        "\n",
        "<TarInfo './Sample00102.zip' at 0xa14630c>"
       ]
      },
      {
       "output_type": "stream",
       "stream": "stdout",
       "text": [
        "\n",
        "Sample00102_data.mat"
       ]
      },
      {
       "output_type": "stream",
       "stream": "stdout",
       "text": [
        "\n",
        "<TarInfo './Sample00103.zip' at 0xcaa122c>"
       ]
      },
      {
       "output_type": "stream",
       "stream": "stdout",
       "text": [
        "\n",
        "Sample00103_data.mat"
       ]
      },
      {
       "output_type": "stream",
       "stream": "stdout",
       "text": [
        "\n",
        "<TarInfo './Sample00104.zip' at 0xcaa636c>"
       ]
      },
      {
       "output_type": "stream",
       "stream": "stdout",
       "text": [
        "\n",
        "Sample00104_data.mat"
       ]
      },
      {
       "output_type": "stream",
       "stream": "stdout",
       "text": [
        "\n",
        "<TarInfo './Sample00105.zip' at 0xcaafecc>"
       ]
      },
      {
       "output_type": "stream",
       "stream": "stdout",
       "text": [
        "\n",
        "Sample00105_data.mat"
       ]
      },
      {
       "output_type": "stream",
       "stream": "stdout",
       "text": [
        "\n",
        "<TarInfo './Sample00106.zip' at 0xc946a4c>"
       ]
      },
      {
       "output_type": "stream",
       "stream": "stdout",
       "text": [
        "\n",
        "Sample00106_data.mat"
       ]
      },
      {
       "output_type": "stream",
       "stream": "stdout",
       "text": [
        "\n",
        "<TarInfo './Sample00107.zip' at 0xd6f212c>"
       ]
      },
      {
       "output_type": "stream",
       "stream": "stdout",
       "text": [
        "\n",
        "Sample00107_data.mat"
       ]
      },
      {
       "output_type": "stream",
       "stream": "stdout",
       "text": [
        "\n",
        "<TarInfo './Sample00108.zip' at 0xc92552c>"
       ]
      },
      {
       "output_type": "stream",
       "stream": "stdout",
       "text": [
        "\n",
        "Sample00108_data.mat"
       ]
      }
     ],
     "prompt_number": "*"
    },
    {
     "cell_type": "code",
     "collapsed": false,
     "input": [
      "import scipy.io\n",
      "import numpy as np\n",
      "import numpy.matlib\n",
      "import pandas as pd\n",
      "from pandas import DataFrame\n",
      "\n",
      "def skeletion_from_mat(mat):\n",
      "    df = DataFrame()\n",
      "    Frames = mat['Video']['Frames'][0][0][0]\n",
      "    \n",
      "    for i, frame in enumerate(Frames):\n",
      "        curr_frame = frame['Skeleton'][0][0]\n",
      "    \n",
      "        World_Position = DataFrame(curr_frame['WorldPosition'], columns=['x', 'y', 'z']) #numpy array (20,3)\n",
      "        World_Rotation = DataFrame(curr_frame['WorldRotation'], columns=['a', 'b', 'c', 'd']) #numpy array (20,4)\n",
      "        Joint_Type = DataFrame(curr_frame['JointType'], columns=['JointType'])         #numpy array (20, 1)\n",
      "        Pixel_Position = DataFrame(curr_frame['PixelPosition'], columns=['pix_x', 'pix_y']) #numpy array (20, 2)\n",
      "\n",
      "        tmp = pd.concat([World_Position, World_Rotation, Joint_Type, Pixel_Position], axis=1)\n",
      "        tmp['frame'] = i\n",
      "        df = pd.concat([df, tmp], axis=0)\n",
      "        \n",
      "    return df"
     ],
     "language": "python",
     "metadata": {},
     "outputs": [],
     "prompt_number": 2
    },
    {
     "cell_type": "code",
     "collapsed": false,
     "input": [
      "import os\n",
      "\n",
      "os.remove('data/raw_data/' + fname\n"
     ],
     "language": "python",
     "metadata": {},
     "outputs": [],
     "prompt_number": 6
    },
    {
     "cell_type": "code",
     "collapsed": false,
     "input": [
      "import scipy.io\n",
      "import numpy as np\n",
      "import numpy.matlib\n",
      "\n",
      "project_directory = '/home/thierrysilbermann/Documents/Kaggle/11_Multi_Modal_Gesture_Recognition'\n",
      "training_directory = 'training1'\n",
      "sample = 'Sample00001'\n",
      "mat = scipy.io.loadmat('data/raw_data/Sample00001/Sample00001_data.mat') \n",
      "\n",
      "for key in mat.keys():\n",
      "    print \"key: %s\" % (key)\n",
      "    #print \"value: %s\" %(mydictionary[key]) #not a good idea to uncomment !\n",
      "\n",
      "\"\"\"\n",
      "key: __version__\n",
      "key: Video\n",
      "key: __header__\n",
      "key: __globals__\n",
      "\"\"\"\n",
      "\n",
      "Video_info = mat['Video']\n",
      "\n",
      "print mat['Video'].dtype\n",
      "#[('NumFrames', 'O'), ('FrameRate', 'O'), ('Frames', 'O'), ('MaxDepth', 'O'), ('Labels', 'O')]\n",
      "\n",
      "NumFrames = mat['Video']['NumFrames'][0][0][0][0]\n",
      "FrameRate = mat['Video']['FrameRate'][0][0][0][0]\n",
      "\n",
      "Frames = mat['Video']['Frames'][0][0][0]\n",
      "\n",
      "print Frames.shape\n",
      "# (1254,)\n",
      "\n",
      "for frame in Frames:\n",
      "    curr_frame = frame['Skeleton'][0][0]\n",
      "\n",
      "    World_Position = curr_frame['WorldPosition'] #numpy array (20,3)\n",
      "    World_Rotation = curr_frame['WorldRotation'] #numpy array (20,4)\n",
      "    Joint_Type = curr_frame['JointType'] #numpy array (20, 1)\n",
      "    Pixel_Position = curr_frame['PixelPosition'] #numpy array (20, 2)\n",
      "    \n",
      "print 'End'"
     ],
     "language": "python",
     "metadata": {},
     "outputs": [],
     "prompt_number": 12
    },
    {
     "cell_type": "code",
     "collapsed": false,
     "input": [
      "World_Position.shape"
     ],
     "language": "python",
     "metadata": {},
     "outputs": [
      {
       "output_type": "pyout",
       "prompt_number": 31,
       "text": [
        "(20, 3)"
       ]
      }
     ],
     "prompt_number": 31
    }
   ],
   "metadata": {}
  }
 ]
}